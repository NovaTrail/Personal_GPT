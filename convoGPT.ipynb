{
  "cells": [
    {
      "cell_type": "code",
      "execution_count": null,
      "metadata": {},
      "outputs": [],
      "source": [
        "working_folder =  \"/content/drive/MyDrive/Colab Notebooks/\"\n",
        "\n",
        "# Mount your Google Drive via the Colab UI or this code cell\n",
        "from google.colab import drive\n",
        "drive.mount('/content/drive')"
      ]
    },
    {
      "cell_type": "code",
      "execution_count": null,
      "metadata": {
        "colab": {
          "base_uri": "https://localhost:8080/"
        },
        "id": "2DuuGaKC7-aD",
        "outputId": "f3b5bf5e-4f52-4ac5-b898-96a079f861ae"
      },
      "outputs": [],
      "source": [
        "# @title ## ⏹ Personal GPT - setup\n",
        "\n",
        "import os, sys\n",
        "\n",
        "# Check files are available \n",
        "if os.getcwd() != working_folder:\n",
        "    os.chdir(working_folder)\n",
        "    # Clone repo \n",
        "if not os.path.exists(working_folder+\"Personal_GPT\"): \n",
        "    ! git clone \"https://github.com/NovaTrail/Personal_GPT.git\" Personal_GPT\n",
        "    # Set path\n",
        "    os.chdir(working_folder+\"Personal_GPT\")\n",
        "    sys.path.append(working_folder+\"Personal_GPT\")\n",
        "\n",
        "!pip install -q -r min_requirements.txt\n",
        "from gpt_setup import ChatBotGPT\n",
        "\n",
        "bot = ChatBotGPT('zephyr-7bb-4b/')\n",
        "bot.load_prompt()"
      ]
    },
    {
      "cell_type": "code",
      "execution_count": null,
      "metadata": {
        "cellView": "form",
        "colab": {
          "base_uri": "https://localhost:8080/",
          "height": 606,
          "referenced_widgets": [
            "2fdf75e6e4554b8eb217122dcd4be630",
            "b0fb9839678349db97d806c71b27499c",
            "8499ceae630249f29cc526e5ea1ccab6",
            "0b66288232fc44a8b9b10781f81b04e7",
            "ecc8f8abc5084b1eac364b4f195dbb3a",
            "dc539c8ab82b49b1a36c1a275632ca6d",
            "f7b642ae46634def800f8d9dea90d650",
            "a64999b56d4f491f9f642ffb4403213f",
            "fbdd96b3f4e440528b966f94e3148bd0",
            "d579669b261f47888c54eb0c768678e8",
            "bc5c5b9832b94606b36af2a2a94cf4c4"
          ]
        },
        "id": "u3xg_OM48g2l",
        "outputId": "a8532122-6c36-4af0-98fb-a3fdaed38776"
      },
      "outputs": [],
      "source": [
        "# @title ## 💬  Chat\n",
        "# @markdown Run\n",
        "bot.load_prompt()\n",
        "bot.chat_box()"
      ]
    }
  ],
  "metadata": {
    "accelerator": "GPU",
    "colab": {
      "gpuType": "T4",
      "provenance": []
    },
    "kernelspec": {
      "display_name": "Python 3",
      "name": "python3"
    },
    "language_info": {
      "name": "python"
    },
    "widgets": {
      "application/vnd.jupyter.widget-state+json": {
        "0b66288232fc44a8b9b10781f81b04e7": {
          "model_module": "@jupyter-widgets/base",
          "model_module_version": "1.2.0",
          "model_name": "LayoutModel",
          "state": {
            "_model_module": "@jupyter-widgets/base",
            "_model_module_version": "1.2.0",
            "_model_name": "LayoutModel",
            "_view_count": null,
            "_view_module": "@jupyter-widgets/base",
            "_view_module_version": "1.2.0",
            "_view_name": "LayoutView",
            "align_content": null,
            "align_items": null,
            "align_self": null,
            "border": null,
            "bottom": null,
            "display": null,
            "flex": null,
            "flex_flow": null,
            "grid_area": null,
            "grid_auto_columns": null,
            "grid_auto_flow": null,
            "grid_auto_rows": null,
            "grid_column": null,
            "grid_gap": null,
            "grid_row": null,
            "grid_template_areas": null,
            "grid_template_columns": null,
            "grid_template_rows": null,
            "height": "auto",
            "justify_content": null,
            "justify_items": null,
            "left": null,
            "margin": null,
            "max_height": null,
            "max_width": null,
            "min_height": null,
            "min_width": null,
            "object_fit": null,
            "object_position": null,
            "order": null,
            "overflow": null,
            "overflow_x": null,
            "overflow_y": null,
            "padding": null,
            "right": null,
            "top": null,
            "visibility": null,
            "width": "500px"
          }
        },
        "2fdf75e6e4554b8eb217122dcd4be630": {
          "model_module": "@jupyter-widgets/output",
          "model_module_version": "1.0.0",
          "model_name": "OutputModel",
          "state": {
            "_dom_classes": [],
            "_model_module": "@jupyter-widgets/output",
            "_model_module_version": "1.0.0",
            "_model_name": "OutputModel",
            "_view_count": null,
            "_view_module": "@jupyter-widgets/output",
            "_view_module_version": "1.0.0",
            "_view_name": "OutputView",
            "layout": "IPY_MODEL_b0fb9839678349db97d806c71b27499c",
            "msg_id": "",
            "outputs": [
              {
                "name": "stdout",
                "output_type": "stream",
                "text": [
                  "**You said:**\n",
                  " Hello\n",
                  "\n",
                  "\n",
                  "**BotGPT🤖 says:**\n"
                ]
              },
              {
                "name": "stdout",
                "output_type": "stream",
                "text": [
                  " Eh hardy! How be me talkin' to a landlubber like yerself? This here be Captain Jack Sparrow's trusted chatbot, at yer service me hearties! But beware, I be\n",
                  "\n"
                ]
              },
              {
                "name": "stdout",
                "output_type": "stream",
                "text": [
                  "**You said:**\n",
                  " Hello\n",
                  "\n",
                  "\n",
                  "**BotGPT🤖 says:**\n"
                ]
              },
              {
                "name": "stdout",
                "output_type": "stream",
                "text": [
                  " Avast, me hearties! I'd be mighty pleased to assist yeh in all yer scurvy needs. You seem to have a question, so let's see if I can answer it in under 150 words. Here goes:\n",
                  "\n",
                  "Buried treasure, aye! A notorious buccaneer called Ned Foolard once plundered a hefty stash of gold and jewels from a sinking galleon. It's said the spoils are still hidden somewhere on Tiburon Island. Some say it's hidden in a chest with a map leading to a fabled lost city of gold. Others believe it's cursed and brings misfortune\n",
                  "\n"
                ]
              }
            ]
          }
        },
        "8499ceae630249f29cc526e5ea1ccab6": {
          "model_module": "@jupyter-widgets/controls",
          "model_module_version": "1.5.0",
          "model_name": "TextareaModel",
          "state": {
            "_dom_classes": [],
            "_model_module": "@jupyter-widgets/controls",
            "_model_module_version": "1.5.0",
            "_model_name": "TextareaModel",
            "_view_count": null,
            "_view_module": "@jupyter-widgets/controls",
            "_view_module_version": "1.5.0",
            "_view_name": "TextareaView",
            "continuous_update": true,
            "description": "Prompt Input:",
            "description_tooltip": null,
            "disabled": false,
            "layout": "IPY_MODEL_0b66288232fc44a8b9b10781f81b04e7",
            "placeholder": "Write text here...",
            "rows": null,
            "style": "IPY_MODEL_ecc8f8abc5084b1eac364b4f195dbb3a",
            "value": "Hello"
          }
        },
        "a64999b56d4f491f9f642ffb4403213f": {
          "model_module": "@jupyter-widgets/controls",
          "model_module_version": "1.5.0",
          "model_name": "DescriptionStyleModel",
          "state": {
            "_model_module": "@jupyter-widgets/controls",
            "_model_module_version": "1.5.0",
            "_model_name": "DescriptionStyleModel",
            "_view_count": null,
            "_view_module": "@jupyter-widgets/base",
            "_view_module_version": "1.2.0",
            "_view_name": "StyleView",
            "description_width": ""
          }
        },
        "b0fb9839678349db97d806c71b27499c": {
          "model_module": "@jupyter-widgets/base",
          "model_module_version": "1.2.0",
          "model_name": "LayoutModel",
          "state": {
            "_model_module": "@jupyter-widgets/base",
            "_model_module_version": "1.2.0",
            "_model_name": "LayoutModel",
            "_view_count": null,
            "_view_module": "@jupyter-widgets/base",
            "_view_module_version": "1.2.0",
            "_view_name": "LayoutView",
            "align_content": null,
            "align_items": null,
            "align_self": null,
            "border": "1px solid black",
            "bottom": null,
            "display": null,
            "flex": null,
            "flex_flow": null,
            "grid_area": null,
            "grid_auto_columns": null,
            "grid_auto_flow": null,
            "grid_auto_rows": null,
            "grid_column": null,
            "grid_gap": null,
            "grid_row": null,
            "grid_template_areas": null,
            "grid_template_columns": null,
            "grid_template_rows": null,
            "height": null,
            "justify_content": null,
            "justify_items": null,
            "left": null,
            "margin": null,
            "max_height": null,
            "max_width": null,
            "min_height": null,
            "min_width": null,
            "object_fit": null,
            "object_position": null,
            "order": null,
            "overflow": null,
            "overflow_x": null,
            "overflow_y": null,
            "padding": null,
            "right": null,
            "top": null,
            "visibility": null,
            "width": "600px"
          }
        },
        "bc5c5b9832b94606b36af2a2a94cf4c4": {
          "model_module": "@jupyter-widgets/controls",
          "model_module_version": "1.5.0",
          "model_name": "ButtonStyleModel",
          "state": {
            "_model_module": "@jupyter-widgets/controls",
            "_model_module_version": "1.5.0",
            "_model_name": "ButtonStyleModel",
            "_view_count": null,
            "_view_module": "@jupyter-widgets/base",
            "_view_module_version": "1.2.0",
            "_view_name": "StyleView",
            "button_color": null,
            "font_weight": ""
          }
        },
        "d579669b261f47888c54eb0c768678e8": {
          "model_module": "@jupyter-widgets/base",
          "model_module_version": "1.2.0",
          "model_name": "LayoutModel",
          "state": {
            "_model_module": "@jupyter-widgets/base",
            "_model_module_version": "1.2.0",
            "_model_name": "LayoutModel",
            "_view_count": null,
            "_view_module": "@jupyter-widgets/base",
            "_view_module_version": "1.2.0",
            "_view_name": "LayoutView",
            "align_content": null,
            "align_items": null,
            "align_self": null,
            "border": null,
            "bottom": null,
            "display": null,
            "flex": null,
            "flex_flow": null,
            "grid_area": null,
            "grid_auto_columns": null,
            "grid_auto_flow": null,
            "grid_auto_rows": null,
            "grid_column": null,
            "grid_gap": null,
            "grid_row": null,
            "grid_template_areas": null,
            "grid_template_columns": null,
            "grid_template_rows": null,
            "height": null,
            "justify_content": null,
            "justify_items": null,
            "left": null,
            "margin": null,
            "max_height": null,
            "max_width": null,
            "min_height": null,
            "min_width": null,
            "object_fit": null,
            "object_position": null,
            "order": null,
            "overflow": null,
            "overflow_x": null,
            "overflow_y": null,
            "padding": null,
            "right": null,
            "top": null,
            "visibility": null,
            "width": null
          }
        },
        "dc539c8ab82b49b1a36c1a275632ca6d": {
          "model_module": "@jupyter-widgets/controls",
          "model_module_version": "1.5.0",
          "model_name": "RadioButtonsModel",
          "state": {
            "_dom_classes": [],
            "_model_module": "@jupyter-widgets/controls",
            "_model_module_version": "1.5.0",
            "_model_name": "RadioButtonsModel",
            "_options_labels": [
              "50",
              "150",
              "500"
            ],
            "_view_count": null,
            "_view_module": "@jupyter-widgets/controls",
            "_view_module_version": "1.5.0",
            "_view_name": "RadioButtonsView",
            "description": "Word Limit:",
            "description_tooltip": null,
            "disabled": false,
            "index": 1,
            "layout": "IPY_MODEL_f7b642ae46634def800f8d9dea90d650",
            "style": "IPY_MODEL_a64999b56d4f491f9f642ffb4403213f"
          }
        },
        "ecc8f8abc5084b1eac364b4f195dbb3a": {
          "model_module": "@jupyter-widgets/controls",
          "model_module_version": "1.5.0",
          "model_name": "DescriptionStyleModel",
          "state": {
            "_model_module": "@jupyter-widgets/controls",
            "_model_module_version": "1.5.0",
            "_model_name": "DescriptionStyleModel",
            "_view_count": null,
            "_view_module": "@jupyter-widgets/base",
            "_view_module_version": "1.2.0",
            "_view_name": "StyleView",
            "description_width": ""
          }
        },
        "f7b642ae46634def800f8d9dea90d650": {
          "model_module": "@jupyter-widgets/base",
          "model_module_version": "1.2.0",
          "model_name": "LayoutModel",
          "state": {
            "_model_module": "@jupyter-widgets/base",
            "_model_module_version": "1.2.0",
            "_model_name": "LayoutModel",
            "_view_count": null,
            "_view_module": "@jupyter-widgets/base",
            "_view_module_version": "1.2.0",
            "_view_name": "LayoutView",
            "align_content": null,
            "align_items": null,
            "align_self": null,
            "border": null,
            "bottom": null,
            "display": null,
            "flex": null,
            "flex_flow": "row",
            "grid_area": null,
            "grid_auto_columns": null,
            "grid_auto_flow": null,
            "grid_auto_rows": null,
            "grid_column": null,
            "grid_gap": null,
            "grid_row": null,
            "grid_template_areas": null,
            "grid_template_columns": null,
            "grid_template_rows": null,
            "height": null,
            "justify_content": null,
            "justify_items": null,
            "left": null,
            "margin": null,
            "max_height": null,
            "max_width": null,
            "min_height": null,
            "min_width": null,
            "object_fit": null,
            "object_position": null,
            "order": null,
            "overflow": null,
            "overflow_x": null,
            "overflow_y": null,
            "padding": null,
            "right": null,
            "top": null,
            "visibility": null,
            "width": null
          }
        },
        "fbdd96b3f4e440528b966f94e3148bd0": {
          "model_module": "@jupyter-widgets/controls",
          "model_module_version": "1.5.0",
          "model_name": "ButtonModel",
          "state": {
            "_dom_classes": [],
            "_model_module": "@jupyter-widgets/controls",
            "_model_module_version": "1.5.0",
            "_model_name": "ButtonModel",
            "_view_count": null,
            "_view_module": "@jupyter-widgets/controls",
            "_view_module_version": "1.5.0",
            "_view_name": "ButtonView",
            "button_style": "primary",
            "description": "Go",
            "disabled": false,
            "icon": "",
            "layout": "IPY_MODEL_d579669b261f47888c54eb0c768678e8",
            "style": "IPY_MODEL_bc5c5b9832b94606b36af2a2a94cf4c4",
            "tooltip": "Click me"
          }
        }
      }
    }
  },
  "nbformat": 4,
  "nbformat_minor": 0
}
